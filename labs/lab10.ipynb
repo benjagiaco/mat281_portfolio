{
 "cells": [
  {
   "cell_type": "markdown",
   "metadata": {},
   "source": [
    "# Laboratorio 10"
   ]
  },
  {
   "cell_type": "code",
   "execution_count": 1,
   "metadata": {},
   "outputs": [],
   "source": [
    "import matplotlib.pyplot as plt\n",
    "import numpy as np\n",
    "import pandas as pd\n",
    "from sklearn.datasets import load_breast_cancer\n",
    "from sklearn.model_selection import train_test_split, GridSearchCV\n",
    "from sklearn.linear_model import LogisticRegression\n",
    "from sklearn.neighbors import KNeighborsClassifier\n",
    "from sklearn.metrics import plot_confusion_matrix, classification_report\n",
    "\n",
    "%matplotlib inline"
   ]
  },
  {
   "cell_type": "code",
   "execution_count": 2,
   "metadata": {},
   "outputs": [],
   "source": [
    "breast_cancer = load_breast_cancer()\n",
    "X, y = breast_cancer.data, breast_cancer.target\n",
    "X_train, X_test, y_train, y_test = train_test_split(X, y, test_size=0.3, random_state=42)\n",
    "target_names = breast_cancer.target_names"
   ]
  },
  {
   "cell_type": "markdown",
   "metadata": {},
   "source": [
    "## Ejercicio 1\n",
    "\n",
    "(1 pto.)\n",
    "\n",
    "Ajusta una regresión logística a los datos de entrenamiento y obtén el _accuracy_ con los datos de test. Utiliza el argumento `n_jobs` igual a $-1$, si aún así no converge aumenta el valor de `max_iter`.\n",
    "\n",
    "Hint: Recuerda que el _accuracy_ es el _score_ por defecto en los modelos de clasificación de scikit-learn."
   ]
  },
  {
   "cell_type": "code",
   "execution_count": 3,
   "metadata": {},
   "outputs": [
    {
     "name": "stdout",
     "output_type": "stream",
     "text": [
      "Logistic Regression accuracy: 0.9649122807017544\n"
     ]
    }
   ],
   "source": [
    "lr = LogisticRegression(n_jobs=-1, max_iter=400).fit(X_train, y_train)\n",
    "\n",
    "print(f\"Logistic Regression accuracy: {lr.score(X_test, y_test)}\")"
   ]
  },
  {
   "cell_type": "code",
   "execution_count": 4,
   "metadata": {},
   "outputs": [
    {
     "name": "stdout",
     "output_type": "stream",
     "text": [
      "Nice\n"
     ]
    }
   ],
   "source": [
    "print(\"Nice\")"
   ]
  },
  {
   "cell_type": "markdown",
   "metadata": {},
   "source": [
    "## Ejercicio 2\n",
    "\n",
    "(1 pto.)\n",
    "\n",
    "Utiliza `GridSearchCV` con 5 _folds_ para encontrar el mejor valor de `n_neighbors` de un modelo KNN."
   ]
  },
  {
   "cell_type": "code",
   "execution_count": 5,
   "metadata": {},
   "outputs": [
    {
     "data": {
      "text/html": [
       "<div>\n",
       "<style scoped>\n",
       "    .dataframe tbody tr th:only-of-type {\n",
       "        vertical-align: middle;\n",
       "    }\n",
       "\n",
       "    .dataframe tbody tr th {\n",
       "        vertical-align: top;\n",
       "    }\n",
       "\n",
       "    .dataframe thead th {\n",
       "        text-align: right;\n",
       "    }\n",
       "</style>\n",
       "<table border=\"1\" class=\"dataframe\">\n",
       "  <thead>\n",
       "    <tr style=\"text-align: right;\">\n",
       "      <th></th>\n",
       "      <th>mean_fit_time</th>\n",
       "      <th>std_fit_time</th>\n",
       "      <th>mean_score_time</th>\n",
       "      <th>std_score_time</th>\n",
       "      <th>param_n_neighbors</th>\n",
       "      <th>params</th>\n",
       "      <th>split0_test_score</th>\n",
       "      <th>split1_test_score</th>\n",
       "      <th>split2_test_score</th>\n",
       "      <th>split3_test_score</th>\n",
       "      <th>split4_test_score</th>\n",
       "      <th>mean_test_score</th>\n",
       "      <th>std_test_score</th>\n",
       "      <th>rank_test_score</th>\n",
       "    </tr>\n",
       "  </thead>\n",
       "  <tbody>\n",
       "    <tr>\n",
       "      <th>6</th>\n",
       "      <td>0.002400</td>\n",
       "      <td>0.001516</td>\n",
       "      <td>0.009472</td>\n",
       "      <td>0.003034</td>\n",
       "      <td>8</td>\n",
       "      <td>{'n_neighbors': 8}</td>\n",
       "      <td>0.9375</td>\n",
       "      <td>0.9000</td>\n",
       "      <td>0.9500</td>\n",
       "      <td>0.898734</td>\n",
       "      <td>0.898734</td>\n",
       "      <td>0.916994</td>\n",
       "      <td>0.022206</td>\n",
       "      <td>1</td>\n",
       "    </tr>\n",
       "    <tr>\n",
       "      <th>3</th>\n",
       "      <td>0.001894</td>\n",
       "      <td>0.000248</td>\n",
       "      <td>0.008138</td>\n",
       "      <td>0.000871</td>\n",
       "      <td>5</td>\n",
       "      <td>{'n_neighbors': 5}</td>\n",
       "      <td>0.9125</td>\n",
       "      <td>0.9000</td>\n",
       "      <td>0.9500</td>\n",
       "      <td>0.886076</td>\n",
       "      <td>0.924051</td>\n",
       "      <td>0.914525</td>\n",
       "      <td>0.021788</td>\n",
       "      <td>2</td>\n",
       "    </tr>\n",
       "    <tr>\n",
       "      <th>8</th>\n",
       "      <td>0.002001</td>\n",
       "      <td>0.000294</td>\n",
       "      <td>0.009141</td>\n",
       "      <td>0.000675</td>\n",
       "      <td>10</td>\n",
       "      <td>{'n_neighbors': 10}</td>\n",
       "      <td>0.9250</td>\n",
       "      <td>0.9000</td>\n",
       "      <td>0.9750</td>\n",
       "      <td>0.886076</td>\n",
       "      <td>0.886076</td>\n",
       "      <td>0.914430</td>\n",
       "      <td>0.033456</td>\n",
       "      <td>3</td>\n",
       "    </tr>\n",
       "    <tr>\n",
       "      <th>5</th>\n",
       "      <td>0.004150</td>\n",
       "      <td>0.001151</td>\n",
       "      <td>0.013457</td>\n",
       "      <td>0.000916</td>\n",
       "      <td>7</td>\n",
       "      <td>{'n_neighbors': 7}</td>\n",
       "      <td>0.9375</td>\n",
       "      <td>0.9000</td>\n",
       "      <td>0.9250</td>\n",
       "      <td>0.886076</td>\n",
       "      <td>0.911392</td>\n",
       "      <td>0.911994</td>\n",
       "      <td>0.018087</td>\n",
       "      <td>4</td>\n",
       "    </tr>\n",
       "    <tr>\n",
       "      <th>10</th>\n",
       "      <td>0.002811</td>\n",
       "      <td>0.001360</td>\n",
       "      <td>0.010274</td>\n",
       "      <td>0.002171</td>\n",
       "      <td>12</td>\n",
       "      <td>{'n_neighbors': 12}</td>\n",
       "      <td>0.9125</td>\n",
       "      <td>0.9125</td>\n",
       "      <td>0.9625</td>\n",
       "      <td>0.886076</td>\n",
       "      <td>0.886076</td>\n",
       "      <td>0.911930</td>\n",
       "      <td>0.027910</td>\n",
       "      <td>5</td>\n",
       "    </tr>\n",
       "  </tbody>\n",
       "</table>\n",
       "</div>"
      ],
      "text/plain": [
       "    mean_fit_time  std_fit_time  mean_score_time  std_score_time  \\\n",
       "6        0.002400      0.001516         0.009472        0.003034   \n",
       "3        0.001894      0.000248         0.008138        0.000871   \n",
       "8        0.002001      0.000294         0.009141        0.000675   \n",
       "5        0.004150      0.001151         0.013457        0.000916   \n",
       "10       0.002811      0.001360         0.010274        0.002171   \n",
       "\n",
       "   param_n_neighbors               params  split0_test_score  \\\n",
       "6                  8   {'n_neighbors': 8}             0.9375   \n",
       "3                  5   {'n_neighbors': 5}             0.9125   \n",
       "8                 10  {'n_neighbors': 10}             0.9250   \n",
       "5                  7   {'n_neighbors': 7}             0.9375   \n",
       "10                12  {'n_neighbors': 12}             0.9125   \n",
       "\n",
       "    split1_test_score  split2_test_score  split3_test_score  \\\n",
       "6              0.9000             0.9500           0.898734   \n",
       "3              0.9000             0.9500           0.886076   \n",
       "8              0.9000             0.9750           0.886076   \n",
       "5              0.9000             0.9250           0.886076   \n",
       "10             0.9125             0.9625           0.886076   \n",
       "\n",
       "    split4_test_score  mean_test_score  std_test_score  rank_test_score  \n",
       "6            0.898734         0.916994        0.022206                1  \n",
       "3            0.924051         0.914525        0.021788                2  \n",
       "8            0.886076         0.914430        0.033456                3  \n",
       "5            0.911392         0.911994        0.018087                4  \n",
       "10           0.886076         0.911930        0.027910                5  "
      ]
     },
     "metadata": {},
     "output_type": "display_data"
    },
    {
     "data": {
      "text/plain": [
       "{'algorithm': 'auto',\n",
       " 'leaf_size': 30,\n",
       " 'metric': 'minkowski',\n",
       " 'metric_params': None,\n",
       " 'n_jobs': None,\n",
       " 'n_neighbors': 5,\n",
       " 'p': 2,\n",
       " 'weights': 'uniform'}"
      ]
     },
     "metadata": {},
     "output_type": "display_data"
    },
    {
     "data": {
      "text/plain": [
       "0.9649122807017544"
      ]
     },
     "execution_count": 5,
     "metadata": {},
     "output_type": "execute_result"
    }
   ],
   "source": [
    "knn = KNeighborsClassifier()\n",
    "#Dont make any mistkaes pal; this is no grid, this is a dictionary!\n",
    "knn_grid = {\"n_neighbors\": np.arange(2, 31)}\n",
    "\n",
    "knn_cv = GridSearchCV(\n",
    "    knn, knn_grid\n",
    ")\n",
    "knn_cv.fit(X_train, y_train)\n",
    "display(pd.DataFrame.from_dict(knn_cv.cv_results_).sort_values(by=\"mean_test_score\", ascending=False).head())\n",
    "\n",
    "display(knn.get_params())\n",
    "knn.set_params(n_neighbors=8)\n",
    "#Ya know, neighbour should also be accepted with neighbor...\n",
    "\n",
    "knn.fit(X_train, y_train)\n",
    "knn.score(X_test, y_test)\n",
    "#knn.fit(n_neighbors=knn_cv.cv_results_[\"n_neighbors\"])\n",
    "\n"
   ]
  },
  {
   "cell_type": "code",
   "execution_count": 6,
   "metadata": {},
   "outputs": [
    {
     "name": "stdout",
     "output_type": "stream",
     "text": [
      "KNN accuray: 0.9649122807017544\n"
     ]
    }
   ],
   "source": [
    "print(f\"KNN accuray: {knn.score(X_test, y_test)}\")"
   ]
  },
  {
   "cell_type": "markdown",
   "metadata": {},
   "source": [
    "## Ejercicio 3\n",
    "\n",
    "(1 pto.)\n",
    "\n",
    "¿Cuál modelo escogerías basándote en los resultados anteriores? Justifica"
   ]
  },
  {
   "cell_type": "markdown",
   "metadata": {},
   "source": [
    "__Respuesta:__ # Tengo la ligera impresion de que hay como un unico o una familia pequenha de datos atipicos en ambos modelos que hacen exactamente el mismo error en los mismos. Por lo tanto, por criterio de KISS, escogeria la regresion logistica."
   ]
  },
  {
   "cell_type": "markdown",
   "metadata": {},
   "source": [
    "## Ejercicio 4\n",
    "\n",
    "(1 pto.)\n",
    "\n",
    "Para el modelo seleccionado en el ejercicio anterior.\n",
    "\n",
    "* Grafica la matriz de confusión (no olvides colocar los nombres originales en los _labels_).\n",
    "* Imprime el reporte de clasificación."
   ]
  },
  {
   "cell_type": "code",
   "execution_count": 7,
   "metadata": {},
   "outputs": [
    {
     "data": {
      "image/png": "[encoded data removed]",
      "text/plain": [
       "<Figure size 1080x720 with 2 Axes>"
      ]
     },
     "metadata": {
      "needs_background": "light"
     },
     "output_type": "display_data"
    }
   ],
   "source": [
    "fig, ax=plt.subplots(1, 1, figsize=(15, 10))\n",
    "plot_confusion_matrix(lr, X_train, y_train, ax=ax)\n",
    "ax.set_title(\"Matriz de Confusion\", fontsize=20)\n",
    "ax.set_xlabel(\"Predicho\", fontsize=20)\n",
    "ax.set_ylabel(\"Real\", fontsize=20)\n",
    "plt.show()"
   ]
  },
  {
   "cell_type": "code",
   "execution_count": 8,
   "metadata": {},
   "outputs": [
    {
     "name": "stdout",
     "output_type": "stream",
     "text": [
      "              precision    recall  f1-score   support\n",
      "\n",
      "           0       0.97      0.94      0.95        63\n",
      "           1       0.96      0.98      0.97       108\n",
      "\n",
      "    accuracy                           0.96       171\n",
      "   macro avg       0.97      0.96      0.96       171\n",
      "weighted avg       0.96      0.96      0.96       171\n",
      "\n"
     ]
    }
   ],
   "source": [
    "print(classification_report(y_test, lr.predict(X_test)))"
   ]
  }
 ],
 "metadata": {
  "kernelspec": {
   "display_name": "Python 3",
   "language": "python",
   "name": "python3"
  },
  "language_info": {
   "codemirror_mode": {
    "name": "ipython",
    "version": 3
   },
   "file_extension": ".py",
   "mimetype": "text/x-python",
   "name": "python",
   "nbconvert_exporter": "python",
   "pygments_lexer": "ipython3",
   "version": "3.7.8"
  }
 },
 "nbformat": 4,
 "nbformat_minor": 4
}
